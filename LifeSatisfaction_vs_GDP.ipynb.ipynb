{
 "cells": [
  {
   "cell_type": "markdown",
   "id": "0",
   "metadata": {},
   "source": [
    "### Cell 1: Import Libraries\r\n",
    "\r\n",
    "This cell imports essential libraries for data science and machine learning.\r\n",
    "\r\n",
    "- `matplotlib.pyplot as plt` — Used for plotting and visualizing data.\r\n",
    "- `numpy as np` — Array and mathematical operations.\r\n",
    "- `pandas as pd` — Data manipulation and tabular data analysis.\r\n",
    "- `LinearRegression` from `sklearn.linear_model` — Fits a straight line to predict target values given inputs, useful for regression analysis.\r\n",
    "- `KNeighborsRegressor` from `sklearn.neighbors` — An alternative regression method based on finding the 'K' closest data points to estimate predictions.\r\n",
    "\r\n",
    "**Concepts:**\r\n",
    "- *Regression*: Predicts continuous values based on input features.\r\n",
    "- *scikit-learn (sklearn)*: A popular Python library for machine learning algorithms.\r\n",
    "lysis.\r\n"
   ]
  },
  {
   "cell_type": "code",
   "execution_count": null,
   "id": "1",
   "metadata": {},
   "outputs": [],
   "source": [
    "import matplotlib.pyplot as plt\n",
    "import numpy as np\n",
    "import pandas as pd\n",
    "from sklearn.linear_model import LinearRegression\n",
    "from sklearn.neighbors import KNeighborsRegressor"
   ]
  },
  {
   "cell_type": "markdown",
   "id": "2",
   "metadata": {},
   "source": [
    "### Cell 2: Load dataset\n",
    "\n",
    "- `data_root = \"GDP_vs_Satisfaction.csv\"` — Assigns the filename (dataset) to the variable.\n",
    "- `lifesat = pd.read_csv(data_root)` — Reads the CSV file into a pandas DataFrame called `lifesat`.\n",
    "\n",
    "**Keywords:**\n",
    "- `DataFrame` — Pandas object storing tabular data with rows and columns.\n",
    "- `read_csv` — Function to read comma-separated value files.\n"
   ]
  },
  {
   "cell_type": "code",
   "execution_count": null,
   "id": "3",
   "metadata": {},
   "outputs": [],
   "source": [
    "data_root=\"GDP_vs_Satisfaction.csv\"\n",
    "lifesat=pd.read_csv(data_root)"
   ]
  },
  {
   "cell_type": "markdown",
   "id": "4",
   "metadata": {},
   "source": [
    "### Cell 3: View first few rows\r\n",
    "\r\n",
    "- `lifesat.head()` — Displays the first five rows of the DataFrame to quickly inspect the data structure.\r\n",
    "\r\n",
    "**Keywords:**\r\n",
    "- `.head()` — Shows the top entries, helpful to verify loading and observe columns like 'Country', 'GDP', 'Satisfaction'.\r\n"
   ]
  },
  {
   "cell_type": "code",
   "execution_count": null,
   "id": "5",
   "metadata": {},
   "outputs": [],
   "source": [
    "lifesat.head()"
   ]
  },
  {
   "cell_type": "markdown",
   "id": "6",
   "metadata": {},
   "source": [
    "### Cell 4: Select Features and Target\r\n",
    "\r\n",
    "- `X = lifesat[[\"GDP\"]].values` — Selects the GDP column as the input feature array.\r\n",
    "- `y = lifesat[[\"Satisfaction\"]].values` — Selects the Satisfaction column as the target output array.\r\n",
    "\r\n",
    "**Concept:**\r\n",
    "- In supervised learning, `X` (features) are inputs to the model, and `y` (labels or targets) are outputs the model tries to predict.\r\n",
    "- `.values` — Converts from a DataFrame to a NumPy array, required for many ML algorithms.\r\n"
   ]
  },
  {
   "cell_type": "code",
   "execution_count": null,
   "id": "7",
   "metadata": {},
   "outputs": [],
   "source": [
    "X = lifesat[[\"GDP\"]].values\n",
    "y = lifesat[[\"Satisfaction\"]].values"
   ]
  },
  {
   "cell_type": "markdown",
   "id": "8",
   "metadata": {},
   "source": [
    "### Cell 5: Visualize relationship\r\n",
    "\r\n",
    "- `lifesat.plot(kind='scatter', grid=True, x=\"GDP\", y=\"Satisfaction\")` — Creates a scatter plot to visualize how GDP and satisfaction scores relate.\r\n",
    "- `plt.axis([23500, 62500, 4, 9])` — Sets ranges for X and Y axes for better scaling.\r\n",
    "- `plt.show()` — Displays the plot.\r\n",
    "\r\n",
    "**Concept:**\r\n",
    "- Scatter plots are used to check the correlation between two variables.\r\n",
    "- Custom axis limits help focus on the relevant data region.\r\n"
   ]
  },
  {
   "cell_type": "code",
   "execution_count": null,
   "id": "9",
   "metadata": {},
   "outputs": [],
   "source": [
    "lifesat.plot(kind='scatter' , grid=True ,x=\"GDP\" , y=\"Satisfaction\")\n",
    "plt.axis([23_500 , 62_500 , 4, 9])\n",
    "plt.show()"
   ]
  },
  {
   "cell_type": "markdown",
   "id": "10",
   "metadata": {},
   "source": [
    "### Cell 6: Create Linear Regression Model\n",
    "\n",
    "- `model = LinearRegression()` — Initializes a linear regression model instance.\n",
    "\n",
    "**Concept:**\n",
    "- Linear Regression finds the best fit line by minimizing the sum of squared differences between predicted and actual values.\n",
    "- `LinearRegression` is a class in scikit-learn for this purpose.\n"
   ]
  },
  {
   "cell_type": "code",
   "execution_count": null,
   "id": "11",
   "metadata": {},
   "outputs": [],
   "source": [
    "model=LinearRegression()"
   ]
  },
  {
   "cell_type": "markdown",
   "id": "12",
   "metadata": {},
   "source": [
    "### Cell 7: Train the model\n",
    "\n",
    "- `model.fit(X, y)` — Fits (trains) the model using the feature and target arrays.\n",
    "\n",
    "**Keywords:**\n",
    "- `fit()` — Method to train the model so it learns the relationship between GDP and satisfaction scores.\n"
   ]
  },
  {
   "cell_type": "code",
   "execution_count": null,
   "id": "13",
   "metadata": {},
   "outputs": [],
   "source": [
    "model.fit(X,y)"
   ]
  },
  {
   "cell_type": "markdown",
   "id": "14",
   "metadata": {},
   "source": [
    "### Cell 8: Predict life satisfaction for new GDP value\n",
    "\n",
    "- `X_new = [[37655.2]]` — Prepares a new GDP value to predict.\n",
    "- `print(model.predict(X_new))` — Uses the trained model to predict the life satisfaction for this GDP value.\n",
    "\n",
    "**Concept:**\n",
    "- `predict()` method outputs the expected satisfaction score given the GDP.\n",
    "- The input is a 2D array, as required by scikit-learn.\n"
   ]
  },
  {
   "cell_type": "code",
   "execution_count": null,
   "id": "15",
   "metadata": {},
   "outputs": [],
   "source": [
    "X_new=[[37_655.2]] \n",
    "print(model.predict(X_new))"
   ]
  },
  {
   "cell_type": "markdown",
   "id": "16",
   "metadata": {},
   "source": [
    "### Cell 9: Create KNeighborsRegressor Model\r\n",
    "\r\n",
    "- `model = KNeighborsRegressor(n_neighbors=3)` — Initializes a K-Nearest Neighbors regression model using the 3 nearest neighbors.\r\n",
    "\r\n",
    "**Concepts:**\r\n",
    "- *KNeighborsRegressor*: Predicts target values based on the average of the nearest 'K' samples—here, using the 3 GDP values closest to your query point.\r\n",
    "- *n_neighbors*: Hyperparameter specifying how many neighbors to consider during prediction.\r\n",
    "- Used for regression tasks (continuous output), especially when the relationship isn't perfectly linear.\r\n"
   ]
  },
  {
   "cell_type": "code",
   "execution_count": null,
   "id": "17",
   "metadata": {},
   "outputs": [],
   "source": [
    "model = KNeighborsRegressor(n_neighbors=3)"
   ]
  },
  {
   "cell_type": "markdown",
   "id": "18",
   "metadata": {},
   "source": [
    "### Cell 10: Fit KNeighborsRegressor Model\r\n",
    "\r\n",
    "- `model.fit(X, y)` — Trains (fits) the KNeighborsRegressor using GDP (`X`) as input and Satisfaction (`y`) as output.\r\n",
    "\r\n",
    "**Concepts:**\r\n",
    "- `.fit()` method: Teaches the model to make predictions based on seen data, learning the spatial relationship among points.\r\n"
   ]
  },
  {
   "cell_type": "code",
   "execution_count": null,
   "id": "19",
   "metadata": {},
   "outputs": [],
   "source": [
    "model.fit(X, y)"
   ]
  },
  {
   "cell_type": "markdown",
   "id": "20",
   "metadata": {},
   "source": [
    "### Cell 11: Predict with KNeighborsRegressor\r\n",
    "\r\n",
    "- `print(model.predict(X_new))` — Uses the fitted KNeighborsRegressor to predict satisfaction for a new GDP value.\r\n",
    "\r\n",
    "**Concepts:**\r\n",
    "- `.predict(X_new)`: Finds the 3 nearest GDP values, averages their satisfaction scores, and returns this value as the prediction.\r\n",
    "- Output: Continuous predicted score for the given input GDP value, which may differ from what LinearRegression outputs (typically less sensitive to outliers, but not always linear).\r\n"
   ]
  },
  {
   "cell_type": "code",
   "execution_count": null,
   "id": "21",
   "metadata": {},
   "outputs": [],
   "source": [
    "print(model.predict(X_new))"
   ]
  },
  {
   "cell_type": "markdown",
   "id": "22",
   "metadata": {},
   "source": [
    "### Conclusion & Observations: LinearRegression vs KNeighborsRegressor\r\n",
    "\r\n",
    "#### Actual Outputs\r\n",
    "- **LinearRegression output:** `[[6.62434668]]`\r\n",
    "- **KNeighborsRegressor output:** `[[6.96666667]]`\r\n",
    "\r\n",
    "#### What Do These Results Tell Us?\r\n",
    "\r\n",
    "**LinearRegression** produces a lower prediction. This value is a result of the overall best-fit line drawn through all data points. It averages out the effect of all countries, smoothing out any local variation or noise. Thus, the prediction for GDP = 37655.2 considers the trend from low to high GDP for every country in the data.\r\n",
    "\r\n",
    "**KNeighborsRegressor** (with 3 neighbors) gives a higher prediction. Here, the regression looks only at the three GDP values closest to `37655.2` and uses their average satisfaction to predict the output. If those countries happen to have higher satisfaction scores, the prediction will be higher—even if other countries with similar GDPs are lower.\r\n",
    "\r\n",
    "#### Why This Happens\r\n",
    "- **LinearRegression:** Good for modeling overall trend; but can be too simplistic if the data has local bumps or isn't perfectly linear.\r\n",
    "- **KNeighborsRegressor:** Sensitive to local data characteristics; can capture 'bumps' or exceptions, but the result is heavily dependent on which countries are \"neighbors\" for the given GDP.\r\n",
    "\r\n",
    "#### Observations\r\n",
    "- If you want a model that considers the entire dataset and gives a smooth average—use LinearRegression.\r\n",
    "- If you expect satisfaction to vary locally (not just by global GDP trend), or want a model responsive to nearby data—use KNeighborsRegressor.\r\n",
    "- The difference in predictions (`0.34` higher for KNN, here) suggests local satisfaction scores for GDP near `37655.2` are above the trend line drawn by linear regression.\r\n",
    "\r\n",
    "#### Final Note\r\n",
    "Always inspect your data: If you notice regions (GDP ranges) where satisfaction jumps unexpectedly, KNeighborsRegressor may pick up these local features, but LinearRegression will smooth them out.\r\n",
    "\r\n",
    "**Choose model based on whether you want global average or local sensitivity!**\r\n"
   ]
  },
  {
   "cell_type": "code",
   "execution_count": null,
   "id": "23",
   "metadata": {},
   "outputs": [],
   "source": []
  }
 ],
 "metadata": {
  "kernelspec": {
   "display_name": "Python 3 (ipykernel)",
   "language": "python",
   "name": "python3"
  },
  "language_info": {
   "codemirror_mode": {
    "name": "ipython",
    "version": 3
   },
   "file_extension": ".py",
   "mimetype": "text/x-python",
   "name": "python",
   "nbconvert_exporter": "python",
   "pygments_lexer": "ipython3",
   "version": "3.12.4"
  }
 },
 "nbformat": 4,
 "nbformat_minor": 5
}
